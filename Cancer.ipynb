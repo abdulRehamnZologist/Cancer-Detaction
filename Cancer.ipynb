{
 "cells": [
  {
   "cell_type": "code",
   "execution_count": 1,
   "id": "7bda6e43-50cd-48a3-84ad-6c08d91d0aa0",
   "metadata": {},
   "outputs": [],
   "source": [
    "import numpy as np\n",
    "import pandas as pd\n",
    "from sklearn.model_selection import train_test_split, cross_val_score, GridSearchCV\n",
    "from sklearn.preprocessing import StandardScaler\n",
    "from sklearn.metrics import accuracy_score, confusion_matrix, classification_report\n",
    "from sklearn.ensemble import RandomForestClassifier\n",
    "import matplotlib.pyplot as plt\n",
    "import pickle"
   ]
  },
  {
   "cell_type": "code",
   "execution_count": 2,
   "id": "7682d476-4454-47ba-b832-6ffaa034cf28",
   "metadata": {},
   "outputs": [
    {
     "name": "stdout",
     "output_type": "stream",
     "text": [
      "   age  sex  tumor_size  tumor_stage  num_lymph_nodes  metastasis  histology  \\\n",
      "0   64    1          59            3               13           1          1   \n",
      "1   67    1           2            4                4           0          2   \n",
      "2   73    1           1            3               17           1          0   \n",
      "3   20    0          40            3                6           0          3   \n",
      "4   23    0          25            3               15           1          3   \n",
      "\n",
      "   grade  treatment  response  recurrence  survival_time  cancer_type  Target  \n",
      "0      2          1         0           1             58            0       1  \n",
      "1      2          2         2           0             22            0       0  \n",
      "2      2          1         2           0            109            0       1  \n",
      "3      2          1         2           0             13            2       1  \n",
      "4      1          2         0           1            112            0       0  \n"
     ]
    }
   ],
   "source": [
    "file_path = \"D:\\\\Documentc,D\\\\cancer_data.xlsx\"\n",
    "cancer_data = pd.read_excel(file_path)\n",
    "print(cancer_data.head())"
   ]
  },
  {
   "cell_type": "code",
   "execution_count": 3,
   "id": "a1998c84-0075-4b19-8ec3-d2513c94cbd0",
   "metadata": {},
   "outputs": [
    {
     "name": "stdout",
     "output_type": "stream",
     "text": [
      "(303, 14)\n",
      "<class 'pandas.core.frame.DataFrame'>\n",
      "RangeIndex: 303 entries, 0 to 302\n",
      "Data columns (total 14 columns):\n",
      " #   Column           Non-Null Count  Dtype\n",
      "---  ------           --------------  -----\n",
      " 0   age              303 non-null    int64\n",
      " 1   sex              303 non-null    int64\n",
      " 2   tumor_size       303 non-null    int64\n",
      " 3   tumor_stage      303 non-null    int64\n",
      " 4   num_lymph_nodes  303 non-null    int64\n",
      " 5   metastasis       303 non-null    int64\n",
      " 6   histology        303 non-null    int64\n",
      " 7   grade            303 non-null    int64\n",
      " 8   treatment        303 non-null    int64\n",
      " 9   response         303 non-null    int64\n",
      " 10  recurrence       303 non-null    int64\n",
      " 11  survival_time    303 non-null    int64\n",
      " 12  cancer_type      303 non-null    int64\n",
      " 13  Target           303 non-null    int64\n",
      "dtypes: int64(14)\n",
      "memory usage: 33.3 KB\n",
      "age                0\n",
      "sex                0\n",
      "tumor_size         0\n",
      "tumor_stage        0\n",
      "num_lymph_nodes    0\n",
      "metastasis         0\n",
      "histology          0\n",
      "grade              0\n",
      "treatment          0\n",
      "response           0\n",
      "recurrence         0\n",
      "survival_time      0\n",
      "cancer_type        0\n",
      "Target             0\n",
      "dtype: int64\n",
      "              age         sex  tumor_size  tumor_stage  num_lymph_nodes  \\\n",
      "count  303.000000  303.000000  303.000000   303.000000       303.000000   \n",
      "mean    49.072607    0.514851   52.059406     2.485149         9.884488   \n",
      "std     17.814757    0.500606   29.093531     1.112368         6.032187   \n",
      "min     20.000000    0.000000    1.000000     1.000000         0.000000   \n",
      "25%     33.500000    0.000000   28.500000     1.500000         4.000000   \n",
      "50%     50.000000    1.000000   52.000000     2.000000        10.000000   \n",
      "75%     64.000000    1.000000   77.000000     3.000000        15.000000   \n",
      "max     79.000000    1.000000   99.000000     4.000000        19.000000   \n",
      "\n",
      "       metastasis   histology       grade   treatment    response  recurrence  \\\n",
      "count  303.000000  303.000000  303.000000  303.000000  303.000000  303.000000   \n",
      "mean     0.498350    1.587459    2.056106    1.541254    1.029703    0.498350   \n",
      "std      0.500824    1.111994    0.809804    1.105726    0.831365    0.500824   \n",
      "min      0.000000    0.000000    1.000000    0.000000    0.000000    0.000000   \n",
      "25%      0.000000    1.000000    1.000000    1.000000    0.000000    0.000000   \n",
      "50%      0.000000    2.000000    2.000000    1.000000    1.000000    0.000000   \n",
      "75%      1.000000    3.000000    3.000000    3.000000    2.000000    1.000000   \n",
      "max      1.000000    3.000000    3.000000    3.000000    2.000000    1.000000   \n",
      "\n",
      "       survival_time  cancer_type      Target  \n",
      "count     303.000000   303.000000  303.000000  \n",
      "mean       59.214521     1.006601    0.465347  \n",
      "std        36.175485     0.821859    0.499623  \n",
      "min         1.000000     0.000000    0.000000  \n",
      "25%        27.000000     0.000000    0.000000  \n",
      "50%        59.000000     1.000000    0.000000  \n",
      "75%        93.000000     2.000000    1.000000  \n",
      "max       119.000000     2.000000    1.000000  \n",
      "Target\n",
      "0    162\n",
      "1    141\n",
      "Name: count, dtype: int64\n"
     ]
    }
   ],
   "source": [
    "print(cancer_data.shape)\n",
    "cancer_data.info()\n",
    "print(cancer_data.isnull().sum())\n",
    "print(cancer_data.describe())\n",
    "print(cancer_data['Target'].value_counts())"
   ]
  },
  {
   "cell_type": "code",
   "execution_count": 4,
   "id": "be9a9c1f-0588-43be-a462-0d8d22f09217",
   "metadata": {},
   "outputs": [],
   "source": [
    "X = cancer_data.drop(columns='Target', axis=1)\n",
    "Y = cancer_data['Target']"
   ]
  },
  {
   "cell_type": "code",
   "execution_count": 5,
   "id": "2a0b1335-80e6-437f-b86e-e3287b9afd9d",
   "metadata": {},
   "outputs": [
    {
     "name": "stdout",
     "output_type": "stream",
     "text": [
      "     age  sex  tumor_size  tumor_stage  num_lymph_nodes  metastasis  \\\n",
      "0     64    1          59            3               13           1   \n",
      "1     67    1           2            4                4           0   \n",
      "2     73    1           1            3               17           1   \n",
      "3     20    0          40            3                6           0   \n",
      "4     23    0          25            3               15           1   \n",
      "..   ...  ...         ...          ...              ...         ...   \n",
      "298   23    0          11            3               18           1   \n",
      "299   55    1          68            4               10           0   \n",
      "300   59    1           7            4               18           0   \n",
      "301   29    1          92            2                2           0   \n",
      "302   29    0          58            4               17           1   \n",
      "\n",
      "     histology  grade  treatment  response  recurrence  survival_time  \\\n",
      "0            1      2          1         0           1             58   \n",
      "1            2      2          2         2           0             22   \n",
      "2            0      2          1         2           0            109   \n",
      "3            3      2          1         2           0             13   \n",
      "4            3      1          2         0           1            112   \n",
      "..         ...    ...        ...       ...         ...            ...   \n",
      "298          2      2          3         0           0             31   \n",
      "299          0      2          0         1           0             90   \n",
      "300          2      3          3         2           0              8   \n",
      "301          3      2          1         0           1             43   \n",
      "302          3      3          1         1           1             13   \n",
      "\n",
      "     cancer_type  \n",
      "0              0  \n",
      "1              0  \n",
      "2              0  \n",
      "3              2  \n",
      "4              0  \n",
      "..           ...  \n",
      "298            0  \n",
      "299            2  \n",
      "300            0  \n",
      "301            0  \n",
      "302            2  \n",
      "\n",
      "[303 rows x 13 columns]\n",
      "0      1\n",
      "1      0\n",
      "2      1\n",
      "3      1\n",
      "4      0\n",
      "      ..\n",
      "298    0\n",
      "299    0\n",
      "300    1\n",
      "301    1\n",
      "302    1\n",
      "Name: Target, Length: 303, dtype: int64\n"
     ]
    }
   ],
   "source": [
    "print(X)\n",
    "print(Y)"
   ]
  },
  {
   "cell_type": "code",
   "execution_count": 6,
   "id": "e6539f45-8995-48fe-bed1-303903786bcb",
   "metadata": {},
   "outputs": [],
   "source": [
    "# Feature scaling\n",
    "scaler = StandardScaler()\n",
    "X_scaled = scaler.fit_transform(X)\n",
    "# Train-test split\n",
    "X_train, X_test, Y_train, Y_test = train_test_split(X_scaled, Y, test_size=0.2, random_state=42)"
   ]
  },
  {
   "cell_type": "code",
   "execution_count": 7,
   "id": "c8cb59d3-3098-453d-b761-b774f2f0fd2f",
   "metadata": {},
   "outputs": [
    {
     "name": "stdout",
     "output_type": "stream",
     "text": [
      "(303, 13) (242, 13) (61, 13)\n"
     ]
    }
   ],
   "source": [
    "print(X.shape, X_train.shape, X_test.shape)"
   ]
  },
  {
   "cell_type": "code",
   "execution_count": 8,
   "id": "2bd1e65d-83d3-4af6-8840-e2eb0effe6c2",
   "metadata": {},
   "outputs": [],
   "source": [
    "# #Random Forest with GridSearchCV for hyperparameter tuning \n",
    "# param_grid = {\n",
    "#     'n_estimators': [100, 200, 300],\n",
    "#     'max_depth': [None, 10, 20, 30],\n",
    "#     'min_samples_split': [2, 5, 10]\n",
    "# }\n",
    "\n",
    "# rf_model = RandomForestClassifier(random_state=42)\n",
    "# grid_search = GridSearchCV(estimator=rf_model, param_grid=param_grid, cv=5, n_jobs=-1, verbose=2)\n",
    "# grid_search.fit(X_train, Y_train)\n",
    "\n",
    "# # Best model\n",
    "# best_rf_model = grid_search.best_estimator_\n",
    "# best_rf_model.fit(X_train, Y_train)\n",
    "\n",
    "# # Model evaluation\n",
    "# Y_pred = best_rf_model.predict(X_test)\n",
    "# print(f'Accuracy: {accuracy_score(Y_test, Y_pred):.4f}')\n",
    "# print('Confusion Matrix:')\n",
    "# print(confusion_matrix(Y_test, Y_pred))\n",
    "# print('Classification Report:')\n",
    "# print(classification_report(Y_test, Y_pred))"
   ]
  },
  {
   "cell_type": "code",
   "execution_count": 9,
   "id": "c951bce8-79bd-443e-92fd-84ea977a708e",
   "metadata": {},
   "outputs": [],
   "source": [
    "from sklearn.linear_model import LogisticRegression\n",
    "model = LogisticRegression()\n",
    "# training the LogisticRegression model with Training data\n",
    "model.fit(X_train, Y_train)\n",
    "X_train_prediction = model.predict(X_train)\n",
    "training_data_accuracy = accuracy_score(X_train_prediction, Y_train)"
   ]
  },
  {
   "cell_type": "code",
   "execution_count": 10,
   "id": "c04d5363-e9cf-481f-acde-d5f6d2e118b6",
   "metadata": {},
   "outputs": [
    {
     "name": "stdout",
     "output_type": "stream",
     "text": [
      "Accuracy on Training data :  0.6157024793388429\n"
     ]
    }
   ],
   "source": [
    "X_train_prediction = model.predict(X_train)\n",
    "training_data_accuracy = accuracy_score(X_train_prediction, Y_train)\n",
    "print('Accuracy on Training data : ', training_data_accuracy)"
   ]
  },
  {
   "cell_type": "code",
   "execution_count": 13,
   "id": "04141596-ff9e-428b-a5a1-8915c3b8122c",
   "metadata": {},
   "outputs": [],
   "source": [
    "# accuracy on test data\n",
    "X_test_prediction = model.predict(X_test)\n",
    "test_data_accuracy = accuracy_score(X_test_prediction, Y_test)"
   ]
  },
  {
   "cell_type": "code",
   "execution_count": null,
   "id": "af110934-d0a3-4ee2-be77-3975134bd839",
   "metadata": {},
   "outputs": [],
   "source": []
  }
 ],
 "metadata": {
  "kernelspec": {
   "display_name": "Python 3 (ipykernel)",
   "language": "python",
   "name": "python3"
  },
  "language_info": {
   "codemirror_mode": {
    "name": "ipython",
    "version": 3
   },
   "file_extension": ".py",
   "mimetype": "text/x-python",
   "name": "python",
   "nbconvert_exporter": "python",
   "pygments_lexer": "ipython3",
   "version": "3.12.2"
  }
 },
 "nbformat": 4,
 "nbformat_minor": 5
}
